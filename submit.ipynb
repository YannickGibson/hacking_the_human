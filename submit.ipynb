{
 "cells": [
  {
   "cell_type": "code",
   "execution_count": null,
   "metadata": {},
   "outputs": [],
   "source": [
    "import numpy as np\n",
    "from typing import Text\n",
    "import base64\n",
    "import numpy as np\n",
    "import pandas as pd\n",
    "from pycocotools import _mask as coco_mask\n",
    "import zlib\n",
    "import glob\n",
    "import os\n",
    "from pathlib import Path\n",
    "import matplotlib.pyplot as plt\n",
    "\n",
    "\n",
    "import torch\n",
    "import torch.nn as nn\n"
   ]
  },
  {
   "cell_type": "markdown",
   "metadata": {},
   "source": [
    "## Submission File\n",
    "For each image in the test set, you must predict a list of instance segmentation masks and their associated detection score (Confidence). The submission.csv file uses the following format:\n",
    "\n",
    "```\n",
    "id,height,width,prediction_string\n",
    "72e40acccadf,512,512,0 1.0 eNoLTDAwyrM3yI/PMwcAE94DZA==\n",
    "```\n",
    "where ```prediction_string``` has the format ```0 {confidence} {EncodedMask}```. Note that the metric has several \"boilerplate\" values needed to adapt it to this competition; namely, the ```height```, ```width```, and the leading ```0``` in prediction_string, which ordinarily is a class label.\n",
    "\n",
    "**Separate** prediction strings multiple instance masks for the same image with a **space**\n",
    "\n",
    "```\n",
    "id,height,width,prediction_string\n",
    "72e40acccadf,512,512,0 1.0 eNoLTDAwyrM3yI/PMwcAE94DZA== 0 0.5 eAndnnDS1A/mdmkE35Ek9d\n",
    "```\n",
    "\n",
    "https://www.kaggle.com/competitions/hubmap-hacking-the-human-vasculature/overview/evaluation"
   ]
  },
  {
   "cell_type": "code",
   "execution_count": null,
   "metadata": {},
   "outputs": [],
   "source": [
    "def encode_binary_mask(mask: np.ndarray) -> Text:\n",
    "  \"\"\"Converts a binary mask into OID challenge encoding ascii text.\"\"\"\n",
    "\n",
    "  # check input mask --\n",
    "  if mask.dtype != bool:\n",
    "    raise ValueError(\n",
    "        \"encode_binary_mask expects a binary mask, received dtype == %s\" %\n",
    "        mask.dtype)\n",
    "\n",
    "  mask = np.squeeze(mask)\n",
    "  if len(mask.shape) != 2:\n",
    "    raise ValueError(\n",
    "        \"encode_binary_mask expects a 2d mask, received shape == %s\" %\n",
    "        mask.shape)\n",
    "\n",
    "  # convert input mask to expected COCO API input --\n",
    "  mask_to_encode = mask.reshape(mask.shape[0], mask.shape[1], 1)\n",
    "  mask_to_encode = mask_to_encode.astype(np.uint8)\n",
    "  mask_to_encode = np.asfortranarray(mask_to_encode)\n",
    "\n",
    "  # RLE encode mask --\n",
    "  encoded_mask = coco_mask.encode(mask_to_encode)[0][\"counts\"]\n",
    "\n",
    "  # compress and base64 encoding --\n",
    "  binary_str = zlib.compress(encoded_mask, zlib.Z_BEST_COMPRESSION)\n",
    "  base64_str = base64.b64encode(binary_str)\n",
    "  return base64_str"
   ]
  },
  {
   "cell_type": "code",
   "execution_count": null,
   "metadata": {},
   "outputs": [],
   "source": [
    "on_pc = os.path.isdir('data')\n",
    "if on_pc: \n",
    "    data_directory = \"data\"\n",
    "else:\n",
    "    data_directory = \"/kaggle/input/hubmap-hacking-the-human-vasculature\""
   ]
  },
  {
   "cell_type": "code",
   "execution_count": null,
   "metadata": {},
   "outputs": [],
   "source": [
    "device = \"cuda\" if torch.cuda.is_available() else \"cpu\"\n",
    "device"
   ]
  },
  {
   "cell_type": "code",
   "execution_count": null,
   "metadata": {},
   "outputs": [],
   "source": [
    "import segmentation_models_pytorch as smp\n",
    "\n",
    "class UNetInstanceSegmentation(nn.Module):\n",
    "    def __init__(self, num_classes=1, num_channels=3):\n",
    "        super(UNetInstanceSegmentation, self).__init__()\n",
    "        self.model = smp.Unet(\n",
    "            encoder_name=\"resnet34\",  # You can choose different encoder backbones if desired.\n",
    "            encoder_weights=\"imagenet\",\n",
    "            in_channels=num_channels,\n",
    "            classes=num_classes,\n",
    "            activation='sigmoid'\n",
    "        )\n",
    "\n",
    "    def forward(self, x):\n",
    "        return self.model(x)\n",
    "\n",
    "    def predict(self, x):\n",
    "        with torch.no_grad():\n",
    "            y_pred = self.forward(x)\n",
    "        return (y_pred > 0.5) * 1.0\n",
    "\n",
    "model = UNetInstanceSegmentation()\n",
    "model.to(device)\n",
    "\n",
    "inp = torch.randn(1, 3, 512, 512).to(device)\n",
    "output_mask = model.predict(inp)\n"
   ]
  },
  {
   "cell_type": "code",
   "execution_count": null,
   "metadata": {},
   "outputs": [],
   "source": [
    "model_path = f\"{data_directory}/models/onereg_20min\"\n",
    "\n",
    "# model.load_state_dict(torch.load(model_path))\n",
    "\n",
    "model = UNetInstanceSegmentation()\n",
    "model.load_state_dict(torch.load(model_path))\n"
   ]
  },
  {
   "cell_type": "code",
   "execution_count": 22,
   "metadata": {},
   "outputs": [],
   "source": [
    "def convert_multiple_masks(masks: list[np.ndarray], confidence_values: list[int]) -> Text:\n",
    "    strings = []\n",
    "    for mask, confidence in zip(masks, confidence_values):\n",
    "        strings.append(f\"0 {confidence} {encode_binary_mask(mask)}\")\n",
    "\n",
    "    return ' '.join(strings)"
   ]
  },
  {
   "cell_type": "code",
   "execution_count": null,
   "metadata": {},
   "outputs": [],
   "source": [
    "def instance_confidence(masks, conf_matrixes) -> list:\n",
    "    conf_values = []\n",
    "    for mask, conf_matrix in zip(masks, conf_matrixes):\n",
    "        num, denom = 0, 0\n",
    "        for i in range(mask.shape[0]):\n",
    "            for j in range(mask.shape[1]):\n",
    "                if mask[i][j] == 1:\n",
    "                    num += conf_matrix[i][j]\n",
    "                    denom += 1\n",
    "        conf_values.append(num/denom)\n",
    "    return conf_values"
   ]
  },
  {
   "cell_type": "code",
   "execution_count": 32,
   "metadata": {},
   "outputs": [
    {
     "name": "stdout",
     "output_type": "stream",
     "text": [
      "bool\n"
     ]
    },
    {
     "data": {
      "text/html": [
       "<div>\n",
       "<style scoped>\n",
       "    .dataframe tbody tr th:only-of-type {\n",
       "        vertical-align: middle;\n",
       "    }\n",
       "\n",
       "    .dataframe tbody tr th {\n",
       "        vertical-align: top;\n",
       "    }\n",
       "\n",
       "    .dataframe thead th {\n",
       "        text-align: right;\n",
       "    }\n",
       "</style>\n",
       "<table border=\"1\" class=\"dataframe\">\n",
       "  <thead>\n",
       "    <tr style=\"text-align: right;\">\n",
       "      <th></th>\n",
       "      <th>height</th>\n",
       "      <th>width</th>\n",
       "      <th>prediction_string</th>\n",
       "    </tr>\n",
       "    <tr>\n",
       "      <th>id</th>\n",
       "      <th></th>\n",
       "      <th></th>\n",
       "      <th></th>\n",
       "    </tr>\n",
       "  </thead>\n",
       "  <tbody>\n",
       "    <tr>\n",
       "      <th>72e40acccadf</th>\n",
       "      <td>512</td>\n",
       "      <td>512</td>\n",
       "      <td>0 0.6643457779663025 b'eNpEfWeDHLeu7F8CU8cJO7E...</td>\n",
       "    </tr>\n",
       "  </tbody>\n",
       "</table>\n",
       "</div>"
      ],
      "text/plain": [
       "              height  width                                  prediction_string\n",
       "id                                                                            \n",
       "72e40acccadf     512    512  0 0.6643457779663025 b'eNpEfWeDHLeu7F8CU8cJO7E..."
      ]
     },
     "execution_count": 32,
     "metadata": {},
     "output_type": "execute_result"
    }
   ],
   "source": [
    "submission_df = pd.DataFrame(columns=['id', 'height', 'width', 'prediction_string'])\n",
    "\n",
    "tif_files = glob.glob(os.path.join(f'{data_directory}/test', '*.tif'))\n",
    "rows = []\n",
    "for file_path in tif_files:\n",
    "    # Preparation of image\n",
    "    image_id = Path(file_path).stem\n",
    "    inp = torch.tensor(plt.imread(file_path) / 255) # imread returns (512, 512, 3)\n",
    "    inp = inp.reshape(1, 3, 512, 512) # BATCH, CHANNELS, SIZEY, SIZEX\n",
    "    inp = inp.float() # from float64 to float32\n",
    "\n",
    "    # Prediction + post preparation\n",
    "    with torch.no_grad():\n",
    "        conf_matrix = model.forward(inp).numpy().reshape(512, 512)\n",
    "    predicted = model.predict(inp).numpy().reshape(512, 512).astype(bool)\n",
    "\n",
    "    # plt.imshow(predicted.numpy().reshape(512, 512, 1), vmax=1, vmin=0, cmap=\"gray\")\n",
    "    \n",
    "    # Mask separation - TODO\n",
    "    masks = []\n",
    "    masks.append(predicted)\n",
    "    #\n",
    "\n",
    "    # Confidence\n",
    "    conf_matrixes = []\n",
    "    conf_matrixes.append(conf_matrix)\n",
    "\n",
    "    # confidence =  sum of all pixels confidence over treshold divided by the number of  pixels confidence over treshold\n",
    "    confidence_values = instance_confidence(masks, conf_matrixes)\n",
    "\n",
    "    # Prediction string\n",
    "    prediction_str = convert_multiple_masks(masks, confidence_values)  \n",
    "\n",
    "    # Add row to list  \n",
    "    new_row = {\n",
    "        'id': image_id,\n",
    "        'height': 512,\n",
    "        'width': 512,\n",
    "        'prediction_string': prediction_str\n",
    "    }\n",
    "    rows.append(new_row)\n",
    "\n",
    "\n",
    "res = submission_df.from_dict(rows)\n",
    "res.set_index(\"id\", inplace=True)\n",
    "#res.reset_index(inplace=True)\n",
    "\n",
    "res.head()jjijfef"
   ]
  }
 ],
 "metadata": {
  "kernelspec": {
   "display_name": "hacking_the_human",
   "language": "python",
   "name": "python3"
  },
  "language_info": {
   "codemirror_mode": {
    "name": "ipython",
    "version": 3
   },
   "file_extension": ".py",
   "mimetype": "text/x-python",
   "name": "python",
   "nbconvert_exporter": "python",
   "pygments_lexer": "ipython3",
   "version": "3.10.12"
  },
  "orig_nbformat": 4
 },
 "nbformat": 4,
 "nbformat_minor": 2
}
